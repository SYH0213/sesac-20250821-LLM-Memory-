{
 "cells": [
  {
   "cell_type": "markdown",
   "metadata": {},
   "source": [
    "# ConversationBufferMemory\n",
    "\n",
    "이 메모리는 메시지를 저장한 다음 변수에 메시지를 추출할 수 있게 해줍니다."
   ]
  },
  {
   "cell_type": "code",
   "execution_count": 1,
   "metadata": {},
   "outputs": [
    {
     "data": {
      "text/plain": [
       "True"
      ]
     },
     "execution_count": 1,
     "metadata": {},
     "output_type": "execute_result"
    }
   ],
   "source": [
    "# API KEY를 환경변수로 관리하기 위한 설정 파일\n",
    "from dotenv import load_dotenv\n",
    "\n",
    "# API KEY 정보로드\n",
    "load_dotenv()"
   ]
  },
  {
   "cell_type": "code",
   "execution_count": 2,
   "metadata": {},
   "outputs": [
    {
     "name": "stderr",
     "output_type": "stream",
     "text": [
      "C:\\Users\\손용훈\\AppData\\Local\\Temp\\ipykernel_11648\\3113083188.py:12: LangChainDeprecationWarning: Please see the migration guide at: https://python.langchain.com/docs/versions/migrating_memory/\n",
      "  memory=ConversationBufferMemory(),\n",
      "C:\\Users\\손용훈\\AppData\\Local\\Temp\\ipykernel_11648\\3113083188.py:9: LangChainDeprecationWarning: The class `ConversationChain` was deprecated in LangChain 0.2.7 and will be removed in 1.0. Use :meth:`~RunnableWithMessageHistory: https://python.langchain.com/v0.2/api_reference/core/runnables/langchain_core.runnables.history.RunnableWithMessageHistory.html` instead.\n",
      "  conversation = ConversationChain(\n"
     ]
    }
   ],
   "source": [
    "from langchain_openai import ChatOpenAI\n",
    "from langchain.chains import ConversationChain\n",
    "from langchain.memory import ConversationBufferMemory\n",
    "\n",
    "# LLM 모델을 생성합니다.\n",
    "llm = ChatOpenAI(temperature=0, model_name=\"gpt-4.1-mini\")\n",
    "\n",
    "# ConversationChain을 생성합니다.\n",
    "conversation = ConversationChain(\n",
    "    # ConversationBufferMemory를 사용합니다.\n",
    "    llm=llm,\n",
    "    memory=ConversationBufferMemory(),\n",
    ")"
   ]
  },
  {
   "cell_type": "markdown",
   "metadata": {},
   "source": [
    "### '손용훈'에 대한 정보를 입력"
   ]
  },
  {
   "cell_type": "code",
   "execution_count": 3,
   "metadata": {},
   "outputs": [
    {
     "name": "stdout",
     "output_type": "stream",
     "text": [
      "안녕! 만나서 반가워요. 당신이 누구신지는 지금 이 대화만으로는 알 수 없지만, 당신에 대해 더 알려주시면 기억하고 대화에 반영할 수 있어요. 어떻게 도와드릴까요?\n"
     ]
    }
   ],
   "source": [
    "# 대화를 시작합니다.\n",
    "response = conversation.predict(\n",
    "    input=\"안녕? 내가 누군지 알아?\"\n",
    ")\n",
    "print(response)"
   ]
  },
  {
   "cell_type": "code",
   "execution_count": 4,
   "metadata": {},
   "outputs": [
    {
     "name": "stdout",
     "output_type": "stream",
     "text": [
      "반가워요, 손용훈님! 이름을 알려주셔서 고마워요. 손용훈님에 대해 더 알고 싶어요. 취미나 관심사, 혹은 오늘 이야기하고 싶은 주제가 있나요? 무엇이든 편하게 말씀해 주세요!\n"
     ]
    }
   ],
   "source": [
    "# 대화를 시작합니다.\n",
    "response = conversation.predict(\n",
    "    input=\"나는 손용훈이야.\"\n",
    ")\n",
    "print(response)"
   ]
  },
  {
   "cell_type": "code",
   "execution_count": 5,
   "metadata": {},
   "outputs": [
    {
     "name": "stdout",
     "output_type": "stream",
     "text": [
      "게임을 좋아하신다니 정말 반가워요, 손용훈님! 어떤 종류의 게임을 좋아하시나요? 예를 들어, RPG, FPS, 전략 시뮬레이션, 혹은 모바일 게임 같은 특정 장르가 있나요? 최근에 즐긴 게임이나 추천하고 싶은 게임이 있다면 알려주세요. 저는 다양한 게임에 대해 이야기할 수 있고, 최신 게임 트렌드나 인기 게임에 대해서도 많이 알고 있어요!\n"
     ]
    }
   ],
   "source": [
    "# 대화를 시작합니다.\n",
    "response = conversation.predict(\n",
    "    input=\"나는 게임을 좋아해\"\n",
    ")\n",
    "print(response)"
   ]
  },
  {
   "cell_type": "code",
   "execution_count": 6,
   "metadata": {},
   "outputs": [
    {
     "name": "stdout",
     "output_type": "stream",
     "text": [
      "다양한 게임을 즐기신다니 정말 멋지네요, 손용훈님! 여러 장르를 경험하면 게임의 재미와 매력을 더 깊이 느낄 수 있죠. 혹시 최근에 플레이한 게임 중에서 특히 인상 깊었던 게임이 있나요? 아니면 앞으로 해보고 싶은 게임이나 관심 있는 신작 게임이 있나요? 예를 들어, 액션 어드벤처, 퍼즐, 인디 게임, 멀티플레이어 게임 등 어떤 스타일이든 좋습니다. 그리고 게임과 관련된 특별한 추억이나 에피소드가 있다면 듣고 싶어요!\n"
     ]
    }
   ],
   "source": [
    "# 대화를 시작합니다.\n",
    "response = conversation.predict(\n",
    "    input=\"다양한 게임을 하는것을 좋아해\"\n",
    ")\n",
    "print(response)"
   ]
  },
  {
   "cell_type": "code",
   "execution_count": 7,
   "metadata": {},
   "outputs": [
    {
     "name": "stdout",
     "output_type": "stream",
     "text": [
      "데이브 더 다이버(Dave the Diver)를 인상 깊게 플레이하셨다니 정말 흥미롭네요, 손용훈님! 이 게임은 독특한 잠수와 식당 경영을 결합한 인디 게임으로, 플레이어가 낮에는 바닷속을 탐험하며 다양한 해양 생물을 수집하고, 밤에는 식당을 운영하며 손님들에게 음식을 제공하는 재미있는 컨셉이죠. \n",
      "\n",
      "특히 게임 내에서 해양 생태계를 탐험하는 잠수 파트는 다양한 물고기와 해양 생물을 발견하는 재미가 크고, 식당 경영 파트에서는 메뉴 개발과 손님 응대, 재료 관리 등 경영 시뮬레이션 요소가 잘 어우러져 있어요. 그래픽도 귀엽고 아기자기한 스타일이라서 보는 재미도 있죠.\n",
      "\n",
      "손용훈님은 데이브 더 다이버에서 어떤 부분이 가장 인상 깊었나요? 예를 들어, 특정 해양 생물을 발견한 경험이나 식당을 운영하면서 겪은 재미있는 에피소드가 있나요? 아니면 게임 플레이 팁이나 추천하고 싶은 부분이 있다면 알려주세요!\n"
     ]
    }
   ],
   "source": [
    "# 대화를 시작합니다.\n",
    "response = conversation.predict(\n",
    "    input=\"최근 한 게임중 가장 인상깊은건 데이브 더 다이버야\"\n",
    ")\n",
    "print(response)"
   ]
  },
  {
   "cell_type": "markdown",
   "metadata": {},
   "source": [
    "### '손용훈'에 대한 정보를 기억하는지 확인"
   ]
  },
  {
   "cell_type": "code",
   "execution_count": 8,
   "metadata": {},
   "outputs": [
    {
     "name": "stdout",
     "output_type": "stream",
     "text": [
      "지금까지 대화에서 제가 알고 있는 손용훈님에 대한 정보는 다음과 같아요:\n",
      "\n",
      "- 이름은 손용훈님이세요.\n",
      "- 게임을 좋아하시고, 다양한 장르의 게임을 즐기시는 편이에요.\n",
      "- 최근에 플레이한 게임 중에서 특히 ‘데이브 더 다이버(Dave the Diver)’라는 인디 게임이 인상 깊었다고 하셨어요.\n",
      "- 데이브 더 다이버는 잠수와 식당 경영을 결합한 게임으로, 손용훈님께서 이 게임의 해양 탐험과 식당 운영 부분에 흥미를 느끼신 것 같아요.\n",
      "\n",
      "이 외에는 손용훈님에 대해 아직 더 알지 못해요. 만약 더 알려주시면 기억하고 대화에 반영할 수 있어요!\n"
     ]
    }
   ],
   "source": [
    "# 대화를 시작합니다.\n",
    "response = conversation.predict(\n",
    "    input=\"너가 나에대해 아는 내용을 전부 말해봐\"\n",
    ")\n",
    "print(response)"
   ]
  }
 ],
 "metadata": {
  "kernelspec": {
   "display_name": "sesac-20250820-llm-ollama-serpapi-outputpa-R4rR796i-py3.11",
   "language": "python",
   "name": "python3"
  },
  "language_info": {
   "codemirror_mode": {
    "name": "ipython",
    "version": 3
   },
   "file_extension": ".py",
   "mimetype": "text/x-python",
   "name": "python",
   "nbconvert_exporter": "python",
   "pygments_lexer": "ipython3",
   "version": "3.11.9"
  }
 },
 "nbformat": 4,
 "nbformat_minor": 2
}
