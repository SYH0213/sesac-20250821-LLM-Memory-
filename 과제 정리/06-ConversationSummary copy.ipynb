{
 "cells": [
  {
   "cell_type": "markdown",
   "metadata": {},
   "source": [
    "# ConversationSummaryMemory\n",
    "\n",
    "이제 조금 더 복잡한 메모리 유형인 `ConversationSummaryMemory` 를 사용하는 방법을 살펴 보겠습니다.\n",
    "\n",
    "이 유형의 메모리는 시간 경과에 따른 **대화의 요약** 을 생성합니다. 이는 시간 경과에 따른 대화의 정보를 압축하는 데 유용할 수 있습니다.\n",
    "\n",
    "대화 요약 메모리는 대화가 진행되는 동안 대화를 요약하고 **현재 요약을 메모리에 저장** 합니다.\n",
    "\n",
    "그런 다음 이 메모리를 사용하여 지금까지의 대화 요약을 프롬프트/체인에 삽입할 수 있습니다.\n",
    "\n",
    "이 메모리는 과거 메시지 기록을 프롬프트에 그대로 보관하면 토큰을 너무 많이 차지할 수 있는 긴 대화에 가장 유용합니다.\n"
   ]
  },
  {
   "cell_type": "markdown",
   "metadata": {},
   "source": [
    "`ConversationSummaryMemory` 를 생성합니다.\n"
   ]
  },
  {
   "cell_type": "code",
   "execution_count": 5,
   "metadata": {},
   "outputs": [
    {
     "data": {
      "text/plain": [
       "True"
      ]
     },
     "execution_count": 5,
     "metadata": {},
     "output_type": "execute_result"
    }
   ],
   "source": [
    "# API KEY를 환경변수로 관리하기 위한 설정 파일\n",
    "from dotenv import load_dotenv\n",
    "\n",
    "# API KEY 정보로드\n",
    "load_dotenv()"
   ]
  },
  {
   "cell_type": "code",
   "execution_count": null,
   "metadata": {},
   "outputs": [],
   "source": [
    "from langchain.memory import ConversationSummaryMemory\n",
    "from langchain_openai import ChatOpenAI\n",
    "# 대화를 계속 하게되면 전체 내용을 요약본으로 압축해 저장.\n",
    "memory = ConversationSummaryMemory(\n",
    "    llm=ChatOpenAI(model_name=\"gpt-4.1-mini\", temperature=0), return_messages=True\n",
    ")"
   ]
  },
  {
   "cell_type": "markdown",
   "metadata": {},
   "source": [
    "여러 대화를 저장하도록 합니다.\n"
   ]
  },
  {
   "cell_type": "code",
   "execution_count": 7,
   "metadata": {},
   "outputs": [],
   "source": [
    "memory.save_context(\n",
    "    inputs={\"human\": \"여행자 보험의 기본 보장 범위는 어떻게 되나요?\"},\n",
    "    outputs={\n",
    "        \"ai\": \"기본 여행자 보험은 해외 의료비, 상해 치료비, 항공편 지연 및 수하물 분실 보장을 포함합니다.\"\n",
    "    },\n",
    ")\n",
    "\n",
    "memory.save_context(\n",
    "    inputs={\"human\": \"보험 가입 시 나이 제한이 있나요?\"},\n",
    "    outputs={\n",
    "        \"ai\": \"네, 기본 상품은 만 15세 이상부터 70세 이하까지 가입이 가능합니다. 특별 심사를 거치면 70세 이상도 가입이 가능합니다.\"\n",
    "    },\n",
    ")\n",
    "\n",
    "memory.save_context(\n",
    "    inputs={\"human\": \"보험료는 얼마인가요?\"},\n",
    "    outputs={\n",
    "        \"ai\": \"보험료는 여행 기간과 보장 범위에 따라 달라지며, 7일 기준 약 80유로부터 시작합니다.\"\n",
    "    },\n",
    ")\n",
    "\n",
    "memory.save_context(\n",
    "    inputs={\"human\": \"보험료 결제 방법은 어떻게 되나요?\"},\n",
    "    outputs={\n",
    "        \"ai\": \"보험료는 신용카드, 계좌이체, 모바일 결제 등 다양한 방법으로 납부하실 수 있습니다.\"\n",
    "    },\n",
    ")\n",
    "\n",
    "memory.save_context(\n",
    "    inputs={\"human\": \"보험 청구 절차는 복잡한가요?\"},\n",
    "    outputs={\n",
    "        \"ai\": \"청구 절차는 간단합니다. 온라인 청구 센터를 통해 사고 증빙 서류와 진단서를 제출하면 평균 7일 내에 보상 여부가 확정됩니다.\"\n",
    "    },\n",
    ")\n",
    "\n",
    "memory.save_context(\n",
    "    inputs={\"human\": \"코로나19와 같은 전염병 관련 보장도 포함되나요?\"},\n",
    "    outputs={\n",
    "        \"ai\": \"네, 코로나19 확진 시 발생하는 의료비와 귀국 항공편 변경 비용 등이 포함되어 있습니다.\"\n",
    "    },\n",
    ")\n",
    "\n",
    "memory.save_context(\n",
    "    inputs={\"human\": \"보험 취소나 환불 정책은 어떻게 되나요?\"},\n",
    "    outputs={\n",
    "        \"ai\": \"보험 가입일로부터 14일 이내, 여행 출발 전이라면 전액 환불이 가능합니다. 이후에는 부분 환불 또는 환불 불가 정책이 적용됩니다.\"\n",
    "    },\n",
    ")\n"
   ]
  },
  {
   "cell_type": "markdown",
   "metadata": {},
   "source": [
    "저장된 메모리의 history 를 확인합니다.\n",
    "\n",
    "이전의 모든 대화를 압축적으로 요약한 내용을 확인할 수 있습니다.\n"
   ]
  },
  {
   "cell_type": "code",
   "execution_count": 11,
   "metadata": {},
   "outputs": [
    {
     "name": "stdout",
     "output_type": "stream",
     "text": [
      "[SystemMessage(content='The human asks about the basic coverage of travel insurance. The AI explains that basic travel insurance includes coverage for overseas medical expenses, injury treatment, flight delays, and lost luggage. The human then asks if there is an age limit for purchasing insurance. The AI responds that the basic plan is available for individuals aged 15 to 70, but those over 70 can also apply after a special review. The human inquires about the insurance premium, and the AI states that the premium varies depending on the travel duration and coverage, starting at approximately 80 euros for a 7-day period. The human then asks about payment methods for the premium, and the AI explains that payments can be made via credit card, bank transfer, or mobile payment options. The human asks if the insurance claim process is complicated, and the AI assures that the claim process is simple: by submitting accident proof documents and medical certificates through an online claim center, the compensation decision is typically made within 7 days. The human then asks if coverage includes infectious diseases like COVID-19, and the AI confirms that medical expenses related to COVID-19 diagnosis and costs for changing return flights are included. The human also asks about the cancellation and refund policy, and the AI explains that full refunds are available within 14 days of purchase if the trip has not started; after that, partial refunds or no refunds apply.', additional_kwargs={}, response_metadata={})]\n"
     ]
    }
   ],
   "source": [
    "# 저장된 메모리 확인\n",
    "mes = memory.load_memory_variables({})[\"history\"]\n",
    "print(mes)"
   ]
  },
  {
   "cell_type": "markdown",
   "metadata": {},
   "source": [
    "인간은 여행자 보험의 기본 보장 범위에 대해 질문한다.\n",
    "AI는 기본 여행자 보험이 해외 의료비, 상해 치료비, 항공편 지연, 수하물 분실 보장을 포함한다고 설명한다.\n",
    "\n",
    "인간은 이어서 보험 가입 시 나이 제한이 있는지 묻는다.\n",
    "AI는 기본 상품은 15세에서 70세까지 가입할 수 있으며, 70세 이상도 특별 심사를 거치면 가입할 수 있다고 답한다.\n",
    "\n",
    "인간은 보험료에 대해 묻고,\n",
    "AI는 여행 기간과 보장 범위에 따라 달라지며 7일 기준 약 80유로부터 시작한다고 말한다.\n",
    "\n",
    "인간은 보험료 결제 방법을 묻고,\n",
    "AI는 신용카드, 계좌이체, 모바일 결제 등으로 납부할 수 있다고 설명한다.\n",
    "\n",
    "인간은 보험 청구 절차가 복잡한지 묻고,\n",
    "AI는 절차가 간단하다고 설명한다. 온라인 청구 센터를 통해 사고 증빙 서류와 진단서를 제출하면 평균 7일 이내에 보상 여부가 확정된다고 한다.\n",
    "\n",
    "인간은 코로나19와 같은 전염병 보장 여부를 묻고,\n",
    "AI는 코로나19 확진 시 발생하는 의료비와 귀국 항공편 변경 비용 등이 포함된다고 확인한다.\n",
    "\n",
    "마지막으로 인간은 취소 및 환불 정책을 묻는다.\n",
    "AI는 가입 후 14일 이내이며 여행이 시작되지 않았다면 전액 환불 가능하다고 답한다. 이후에는 부분 환불 또는 환불 불가 정책이 적용된다고 설명한다."
   ]
  },
  {
   "cell_type": "markdown",
   "metadata": {},
   "source": [
    "## ConversationSummaryBufferMemory\n"
   ]
  },
  {
   "cell_type": "markdown",
   "metadata": {},
   "source": [
    "`ConversationSummaryBufferMemory` 는 두 가지 아이디어를 결합한 것입니다.\n",
    "\n",
    "최근 대화내용의 버퍼를 메모리에 유지하되, 이전 대화내용을 완전히 플러시(flush)하지 않고 요약으로 컴파일하여 두 가지를 모두 사용합니다.\n",
    "\n",
    "대화내용을 플러시할 시기를 결정하기 위해 상호작용의 개수가 아닌 **토큰 길이** 를 사용합니다.\n"
   ]
  },
  {
   "cell_type": "code",
   "execution_count": 12,
   "metadata": {},
   "outputs": [
    {
     "name": "stderr",
     "output_type": "stream",
     "text": [
      "C:\\Users\\손용훈\\AppData\\Local\\Temp\\ipykernel_9424\\887257633.py:6: LangChainDeprecationWarning: Please see the migration guide at: https://python.langchain.com/docs/versions/migrating_memory/\n",
      "  memory = ConversationSummaryBufferMemory(\n"
     ]
    }
   ],
   "source": [
    "from langchain_openai import ChatOpenAI\n",
    "from langchain.memory import ConversationSummaryBufferMemory\n",
    "\n",
    "llm = ChatOpenAI()\n",
    "\n",
    "memory = ConversationSummaryBufferMemory(\n",
    "    llm=llm,\n",
    "    max_token_limit=200,  # 요약의 기준이 되는 토큰 길이를 설정합니다.\n",
    "    return_messages=True,\n",
    ")"
   ]
  },
  {
   "cell_type": "markdown",
   "metadata": {},
   "source": [
    "먼저, 1개의 대화만 저장해 보도록 한 뒤, 메모리를 확인해 보겠습니다.\n"
   ]
  },
  {
   "cell_type": "code",
   "execution_count": 13,
   "metadata": {},
   "outputs": [],
   "source": [
    "memory.save_context(\n",
    "    inputs={\"human\": \"여행자 보험의 기본 보장 범위는 어떻게 되나요?\"},\n",
    "    outputs={\n",
    "        \"ai\": \"기본 여행자 보험은 해외 의료비, 상해 치료비, 항공편 지연 및 수하물 분실 보장을 포함합니다.\"\n",
    "    },\n",
    ")"
   ]
  },
  {
   "cell_type": "markdown",
   "metadata": {},
   "source": [
    "메모리에 저장된 대화를 확인합니다.\n",
    "\n",
    "아직은 대화내용을 요약하지 않습니다. 기준이 되는 **200** 토큰에 도달하지 않았기 때문입니다.\n"
   ]
  },
  {
   "cell_type": "code",
   "execution_count": 14,
   "metadata": {},
   "outputs": [
    {
     "data": {
      "text/plain": [
       "[HumanMessage(content='여행자 보험의 기본 보장 범위는 어떻게 되나요?', additional_kwargs={}, response_metadata={}),\n",
       " AIMessage(content='기본 여행자 보험은 해외 의료비, 상해 치료비, 항공편 지연 및 수하물 분실 보장을 포함합니다.', additional_kwargs={}, response_metadata={})]"
      ]
     },
     "execution_count": 14,
     "metadata": {},
     "output_type": "execute_result"
    }
   ],
   "source": [
    "# 메모리에 저장된 대화내용 확인\n",
    "memory.load_memory_variables({})[\"history\"]"
   ]
  },
  {
   "cell_type": "markdown",
   "metadata": {},
   "source": [
    "대화를 추가로 저장하여 200 토큰 제한을 넘기도록 해 보겠습니다.\n"
   ]
  },
  {
   "cell_type": "code",
   "execution_count": 15,
   "metadata": {},
   "outputs": [],
   "source": [
    "memory.save_context(\n",
    "    inputs={\"human\": \"보험 가입 시 나이 제한이 있나요?\"},\n",
    "    outputs={\n",
    "        \"ai\": \"네, 기본 상품은 만 15세 이상부터 70세 이하까지 가입이 가능합니다. 특별 심사를 거치면 70세 이상도 가입이 가능합니다.\"\n",
    "    },\n",
    ")\n",
    "\n",
    "memory.save_context(\n",
    "    inputs={\"human\": \"보험료는 얼마인가요?\"},\n",
    "    outputs={\n",
    "        \"ai\": \"보험료는 여행 기간과 보장 범위에 따라 달라지며, 7일 기준 약 80유로부터 시작합니다.\"\n",
    "    },\n",
    ")\n",
    "\n",
    "memory.save_context(\n",
    "    inputs={\"human\": \"보험료 결제 방법은 어떻게 되나요?\"},\n",
    "    outputs={\n",
    "        \"ai\": \"보험료는 신용카드, 계좌이체, 모바일 결제 등 다양한 방법으로 납부하실 수 있습니다.\"\n",
    "    },\n",
    ")\n",
    "\n",
    "memory.save_context(\n",
    "    inputs={\"human\": \"보험 청구 절차는 복잡한가요?\"},\n",
    "    outputs={\n",
    "        \"ai\": \"청구 절차는 간단합니다. 온라인 청구 센터를 통해 사고 증빙 서류와 진단서를 제출하면 평균 7일 내에 보상 여부가 확정됩니다.\"\n",
    "    },\n",
    ")\n",
    "\n",
    "memory.save_context(\n",
    "    inputs={\"human\": \"코로나19와 같은 전염병 관련 보장도 포함되나요?\"},\n",
    "    outputs={\n",
    "        \"ai\": \"네, 코로나19 확진 시 발생하는 의료비와 귀국 항공편 변경 비용 등이 포함되어 있습니다.\"\n",
    "    },\n",
    ")\n",
    "\n",
    "memory.save_context(\n",
    "    inputs={\"human\": \"보험 취소나 환불 정책은 어떻게 되나요?\"},\n",
    "    outputs={\n",
    "        \"ai\": \"보험 가입일로부터 14일 이내, 여행 출발 전이라면 전액 환불이 가능합니다. 이후에는 부분 환불 또는 환불 불가 정책이 적용됩니다.\"\n",
    "    },\n",
    ")"
   ]
  },
  {
   "cell_type": "markdown",
   "metadata": {},
   "source": [
    "저장된 대화내용을 확인합니다. 가장 최근 1개의 대화에 대해서는 요약이 진행되지 않지만, 이전의 대화내용은 요약본으로 저장되어 있습니다.\n"
   ]
  },
  {
   "cell_type": "code",
   "execution_count": 16,
   "metadata": {},
   "outputs": [
    {
     "data": {
      "text/plain": [
       "[SystemMessage(content='The human asks about the basic coverage of travel insurance. The AI explains that basic travel insurance includes coverage for overseas medical expenses, injury treatment, flight delays, and lost baggage. The human asks if there are age restrictions for insurance coverage, and the AI responds that the basic product allows those aged 15 to 70 to sign up, with special assessment allowing those over 70 to enroll as well. The human then asks about the cost of insurance premiums, to which the AI explains that premiums vary depending on the travel duration and coverage, starting at around 80 euros for a 7-day period. The human inquires about the payment methods for insurance premiums, and the AI explains that premiums can be paid through various methods such as credit cards, bank transfers, and mobile payments. The human asks if the insurance claim process is complicated, and the AI clarifies that the process is simple, with documents and diagnosis submitted online for confirmation of compensation within an average of 7 days.', additional_kwargs={}, response_metadata={}),\n",
       " HumanMessage(content='코로나19와 같은 전염병 관련 보장도 포함되나요?', additional_kwargs={}, response_metadata={}),\n",
       " AIMessage(content='네, 코로나19 확진 시 발생하는 의료비와 귀국 항공편 변경 비용 등이 포함되어 있습니다.', additional_kwargs={}, response_metadata={}),\n",
       " HumanMessage(content='보험 취소나 환불 정책은 어떻게 되나요?', additional_kwargs={}, response_metadata={}),\n",
       " AIMessage(content='보험 가입일로부터 14일 이내, 여행 출발 전이라면 전액 환불이 가능합니다. 이후에는 부분 환불 또는 환불 불가 정책이 적용됩니다.', additional_kwargs={}, response_metadata={})]"
      ]
     },
     "execution_count": 16,
     "metadata": {},
     "output_type": "execute_result"
    }
   ],
   "source": [
    "# 메모리에 저장된 대화내용 확인\n",
    "memory.load_memory_variables({})[\"history\"]"
   ]
  }
 ],
 "metadata": {
  "kernelspec": {
   "display_name": "sesac-20250820-llm-ollama-serpapi-outputpa-R4rR796i-py3.11",
   "language": "python",
   "name": "python3"
  },
  "language_info": {
   "codemirror_mode": {
    "name": "ipython",
    "version": 3
   },
   "file_extension": ".py",
   "mimetype": "text/x-python",
   "name": "python",
   "nbconvert_exporter": "python",
   "pygments_lexer": "ipython3",
   "version": "3.11.9"
  }
 },
 "nbformat": 4,
 "nbformat_minor": 2
}
