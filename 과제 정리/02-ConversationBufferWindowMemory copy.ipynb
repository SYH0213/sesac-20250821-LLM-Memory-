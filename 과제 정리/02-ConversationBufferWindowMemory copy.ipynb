{
 "cells": [
  {
   "cell_type": "markdown",
   "metadata": {},
   "source": [
    "# ConversationBufferWindowMemory\n",
    "\n",
    "`ConversationBufferWindowMemory` 는 시간이 지남에 따라 대화의 상호작용 목록을 유지합니다.\n",
    "\n",
    "이때, `ConversationBufferWindowMemory` 는 모든 대화내용을 활용하는 것이 아닌 **최근 K개** 의 상호작용만 사용합니다.\n",
    "\n",
    "이는 버퍼가 너무 커지지 않도록 가장 최근 상호작용의 슬라이딩 창을 유지하는 데 유용할 수 있습니다.\n"
   ]
  },
  {
   "cell_type": "code",
   "execution_count": 8,
   "metadata": {},
   "outputs": [
    {
     "data": {
      "text/plain": [
       "True"
      ]
     },
     "execution_count": 8,
     "metadata": {},
     "output_type": "execute_result"
    }
   ],
   "source": [
    "# API KEY를 환경변수로 관리하기 위한 설정 파일\n",
    "from dotenv import load_dotenv\n",
    "\n",
    "# API KEY 정보로드\n",
    "load_dotenv()"
   ]
  },
  {
   "cell_type": "code",
   "execution_count": 9,
   "metadata": {},
   "outputs": [],
   "source": [
    "from langchain_openai import ChatOpenAI\n",
    "from langchain.memory import ConversationBufferWindowMemory\n",
    "from langchain.chains import ConversationChain\n",
    "\n",
    "# LLM 모델을 생성합니다.\n",
    "llm = ChatOpenAI(temperature=0, model_name=\"gpt-4.1-mini\")\n",
    "\n",
    "# ConversationChain을 생성합니다.\n",
    "conversation = ConversationChain(\n",
    "    # ConversationBufferWindowMemory 사용합니다.\n",
    "    llm=llm,\n",
    "    memory=ConversationBufferWindowMemory(k=3, return_messages=True),\n",
    ")"
   ]
  },
  {
   "cell_type": "code",
   "execution_count": 10,
   "metadata": {},
   "outputs": [
    {
     "name": "stdout",
     "output_type": "stream",
     "text": [
      "안녕하세요, 손용훈님! 만나서 반가워요. 저는 여러분과 대화하고 도움을 드리기 위해 여기 있는 AI입니다. 오늘은 어떤 이야기를 나누고 싶으신가요? 혹시 관심 있는 주제나 궁금한 점이 있나요?\n"
     ]
    }
   ],
   "source": [
    "# 대화를 시작합니다.\n",
    "response = conversation.predict(\n",
    "    input=\"안녕? 내 이름은 손용훈이야.\"\n",
    ")\n",
    "print(response)"
   ]
  },
  {
   "cell_type": "code",
   "execution_count": 11,
   "metadata": {},
   "outputs": [
    {
     "name": "stdout",
     "output_type": "stream",
     "text": [
      "오늘 날씨가 맑다니 정말 기분 좋은 소식이네요! 맑은 날씨에는 야외 활동하기도 좋고, 햇볕을 쬐면서 기분 전환하기에도 딱이죠. 손용훈님은 맑은 날씨에 주로 어떤 활동을 즐기시나요? 혹시 산책이나 운동, 아니면 사진 찍기 같은 취미가 있으신가요?\n"
     ]
    }
   ],
   "source": [
    "# 대화를 시작합니다.\n",
    "response = conversation.predict(\n",
    "    input=\"오늘의 날씨는 맑아.\"\n",
    ")\n",
    "print(response)"
   ]
  },
  {
   "cell_type": "code",
   "execution_count": 12,
   "metadata": {},
   "outputs": [
    {
     "name": "stdout",
     "output_type": "stream",
     "text": [
      "메모리에 대해 배우셨다니 정말 흥미로운 주제네요! 컴퓨터에서 말하는 메모리는 데이터를 저장하고 처리하는 데 중요한 역할을 하는 장치인데요, 크게 두 가지로 나눌 수 있어요. 하나는 RAM(랜덤 액세스 메모리)으로, 컴퓨터가 작업을 수행할 때 임시로 데이터를 저장하는 곳이고, 다른 하나는 저장 장치(예: 하드 드라이브나 SSD)로, 장기적으로 데이터를 보관하는 역할을 하죠. 사람의 뇌에서 말하는 메모리도 비슷하게 정보를 저장하고 기억하는 기능을 하는데, 단기 기억과 장기 기억으로 나뉘고, 학습과 경험을 통해 강화되기도 해요. 손용훈님은 메모리 중에서 어떤 부분에 대해 배우셨나요? 컴퓨터 메모리인지, 아니면 인간의 기억에 관한 내용인지 궁금하네요!\n"
     ]
    }
   ],
   "source": [
    "# 대화를 시작합니다.\n",
    "response = conversation.predict(\n",
    "    input=\"오늘은 메모리에 대해 배웠어.\"\n",
    ")\n",
    "print(response)"
   ]
  },
  {
   "cell_type": "markdown",
   "metadata": {},
   "source": [
    "##### output에서 '손용훈님' 이라는 표현이 있어 간접적으로 이름에 대해 유추가 가능해짐"
   ]
  },
  {
   "cell_type": "code",
   "execution_count": 13,
   "metadata": {},
   "outputs": [
    {
     "name": "stdout",
     "output_type": "stream",
     "text": [
      "네, 손용훈님이라고 하셨어요! 기억해두었으니 앞으로도 편하게 이름을 불러드릴게요. 혹시 이름과 관련된 특별한 이야기나 의미가 있으신가요?\n"
     ]
    }
   ],
   "source": [
    "# 대화를 시작합니다.\n",
    "response = conversation.predict(\n",
    "    input=\"내 이름이 뭔지 아니?\"\n",
    ")\n",
    "print(response)"
   ]
  },
  {
   "cell_type": "code",
   "execution_count": 14,
   "metadata": {},
   "outputs": [
    {
     "name": "stdout",
     "output_type": "stream",
     "text": [
      "안녕하세요, 손용훈님! 다시 만나서 반가워요. 오늘은 어떤 이야기를 나누고 싶으신가요? 궁금한 점이나 배우고 싶은 주제가 있으면 언제든 말씀해 주세요!\n"
     ]
    }
   ],
   "source": [
    "# 대화를 시작합니다.\n",
    "response = conversation.predict(\n",
    "    input=\"안녕\"\n",
    ")\n",
    "print(response)"
   ]
  },
  {
   "cell_type": "markdown",
   "metadata": {},
   "source": [
    "##### k=3이기 때문에 저장되었던 날씨 정보가 없어져 확인이 안되는 모습"
   ]
  },
  {
   "cell_type": "code",
   "execution_count": 15,
   "metadata": {},
   "outputs": [
    {
     "name": "stdout",
     "output_type": "stream",
     "text": [
      "손용훈님, 오늘의 날씨에 대해 알려드리고 싶지만, 저는 실시간 정보에 접근할 수 없어서 현재 날씨를 직접 확인해 드리기는 어려워요. 대신, 날씨를 확인하려면 스마트폰의 날씨 앱이나 인터넷 포털 사이트, 또는 기상청 웹사이트를 이용하시면 가장 정확한 정보를 얻으실 수 있습니다. 오늘 외출 계획이 있으시다면, 날씨 확인 꼭 잊지 마세요! 혹시 다른 궁금한 점이나 도움이 필요한 주제가 있으면 언제든 말씀해 주세요.\n"
     ]
    }
   ],
   "source": [
    "# 대화를 시작합니다.\n",
    "response = conversation.predict(\n",
    "    input=\"오늘의 날씨는?\"\n",
    ")\n",
    "print(response)"
   ]
  }
 ],
 "metadata": {
  "kernelspec": {
   "display_name": "sesac-20250820-llm-ollama-serpapi-outputpa-R4rR796i-py3.11",
   "language": "python",
   "name": "python3"
  },
  "language_info": {
   "codemirror_mode": {
    "name": "ipython",
    "version": 3
   },
   "file_extension": ".py",
   "mimetype": "text/x-python",
   "name": "python",
   "nbconvert_exporter": "python",
   "pygments_lexer": "ipython3",
   "version": "3.11.9"
  }
 },
 "nbformat": 4,
 "nbformat_minor": 2
}
